{
 "cells": [
  {
   "cell_type": "code",
   "execution_count": 1,
   "id": "80f69879-ee79-4d3b-9b68-0dab9ab73193",
   "metadata": {},
   "outputs": [],
   "source": [
    "import torch\n",
    "import matplotlib.pyplot as plt\n",
    "from RG import RGModel"
   ]
  },
  {
   "cell_type": "markdown",
   "id": "6907067f-a189-4173-bec7-860a1ae1f5f4",
   "metadata": {
    "tags": []
   },
   "source": [
    "## Learn from Data"
   ]
  },
  {
   "cell_type": "code",
   "execution_count": 2,
   "id": "c8b6a7a3-2cd1-4da9-8497-b6537a73dea8",
   "metadata": {},
   "outputs": [],
   "source": [
    "mdl = RGModel([1], 1, hdims=[16, 8], hyper_dim=16)\n",
    "opt = torch.optim.Adam(mdl.parameters(), lr=0.01)"
   ]
  },
  {
   "cell_type": "code",
   "execution_count": 3,
   "id": "e51d042f-9d69-46f5-8e4e-b3c40f13be51",
   "metadata": {},
   "outputs": [
    {
     "data": {
      "text/plain": [
       "torch.Size([100, 1, 1])"
      ]
     },
     "execution_count": 3,
     "metadata": {},
     "output_type": "execute_result"
    }
   ],
   "source": [
    "x_dat = torch.tensor([-1.]*50+[1.]*50)\n",
    "x_dat = x_dat + 0.1*torch.randn_like(x_dat)\n",
    "x_dat = x_dat[:,None,None]\n",
    "x_dat.shape"
   ]
  },
  {
   "cell_type": "code",
   "execution_count": 17,
   "id": "9f5995f7-6081-44b1-827b-b8718134b827",
   "metadata": {},
   "outputs": [
    {
     "name": "stdout",
     "output_type": "stream",
     "text": [
      " 0.20  0.17  0.50  2.22\n",
      " 0.06  0.03  0.49  2.37\n",
      " 0.27  0.24  0.50  2.09\n",
      " 0.01 -0.02  0.53  2.54\n",
      " 0.08  0.05  0.56  2.74\n",
      "-0.16 -0.21  0.61  3.49\n",
      "-0.20 -0.24  0.63  3.59\n",
      "-0.47 -0.52  0.56  3.68\n",
      " 0.06  0.03  0.53  2.61\n",
      " 0.31  0.28  0.51  2.02\n"
     ]
    }
   ],
   "source": [
    "mdl.train()\n",
    "opt.param_groups[0]['lr'] = 0.001\n",
    "for _ in range(10):\n",
    "    opt.zero_grad()\n",
    "    out = mdl.nll_loss(x_dat, lk=0.01, lg=0.01, atol=1e-3, rtol=1e-3)\n",
    "    loss = out[0]\n",
    "    loss.backward()\n",
    "    opt.step()\n",
    "    print(*[f'{o.item():5.2f}' for o in out])"
   ]
  },
  {
   "cell_type": "code",
   "execution_count": 18,
   "id": "091aad62-ba44-46da-bf6e-5dd4349814a0",
   "metadata": {},
   "outputs": [
    {
     "data": {
      "image/png": "[encoded data removed]",
      "text/plain": [
       "<Figure size 432x288 with 1 Axes>"
      ]
     },
     "metadata": {
      "needs_background": "light"
     },
     "output_type": "display_data"
    }
   ],
   "source": [
    "mdl.eval()\n",
    "x_smp = mdl.rsample(1000)\n",
    "plt.hist(x_dat.squeeze().tolist(), bins=50, density=True);\n",
    "plt.hist(x_smp.squeeze().tolist(), bins=50, density=True);"
   ]
  },
  {
   "cell_type": "markdown",
   "id": "438bb348-8a68-4e76-a9a4-bb5ff6a8712e",
   "metadata": {},
   "source": [
    "## Learn from Energy"
   ]
  },
  {
   "cell_type": "code",
   "execution_count": 19,
   "id": "b76c78da-30de-4e6b-8ecf-0f84f404ac47",
   "metadata": {},
   "outputs": [],
   "source": [
    "mdl = RGModel([1], 1, hdims=[16, 8], hyper_dim=16)\n",
    "opt = torch.optim.Adam(mdl.parameters(), lr=0.01)"
   ]
  },
  {
   "cell_type": "code",
   "execution_count": 20,
   "id": "866e81dd-bb87-494e-a689-9011ccca2274",
   "metadata": {},
   "outputs": [],
   "source": [
    "def energy(x):\n",
    "    return torch.squeeze((x-1)**2/(2*(1/3)**2))"
   ]
  },
  {
   "cell_type": "code",
   "execution_count": 28,
   "id": "25b9c4a6-8c15-4ed5-b0aa-0723eecc61ef",
   "metadata": {},
   "outputs": [
    {
     "name": "stdout",
     "output_type": "stream",
     "text": [
      " 1.63  1.60  1.54  1.49\n",
      " 1.73  1.70  1.53  1.57\n",
      " 1.67  1.64  1.54  1.47\n",
      " 1.63  1.60  1.56  1.29\n",
      " 1.73  1.70  1.54  1.34\n",
      " 1.66  1.63  1.50  1.33\n",
      " 1.64  1.62  1.40  1.25\n",
      " 1.68  1.65  1.44  1.24\n",
      " 1.65  1.62  1.48  1.24\n",
      " 1.59  1.56  1.41  1.23\n"
     ]
    }
   ],
   "source": [
    "mdl.train()\n",
    "opt.param_groups[0]['lr'] = 0.001\n",
    "for _ in range(10):\n",
    "    opt.zero_grad()\n",
    "    out = mdl.free_loss(energy, 1000, lk=0.01, lg=0.01, atol=1e-3, rtol=1e-3)\n",
    "    loss = out[0]\n",
    "    loss.backward()\n",
    "    opt.step()\n",
    "    print(*[f'{o.item():5.2f}' for o in out])"
   ]
  },
  {
   "cell_type": "code",
   "execution_count": 29,
   "id": "00613d01-3689-4366-ba8b-6967fef0c241",
   "metadata": {},
   "outputs": [
    {
     "data": {
      "image/png": "[encoded data removed]",
      "text/plain": [
       "<Figure size 432x288 with 1 Axes>"
      ]
     },
     "metadata": {
      "needs_background": "light"
     },
     "output_type": "display_data"
    }
   ],
   "source": [
    "mdl.eval()\n",
    "x_smp = mdl.rsample(1000)\n",
    "x_dat = torch.randn_like(x_smp)/3+1\n",
    "plt.hist(x_dat.squeeze().tolist(), bins=50, density=True);\n",
    "plt.hist(x_smp.squeeze().tolist(), bins=50, density=True);"
   ]
  },
  {
   "cell_type": "code",
   "execution_count": null,
   "id": "e665171f-2a93-479a-8825-dae94a063c1a",
   "metadata": {},
   "outputs": [],
   "source": []
  }
 ],
 "metadata": {
  "kernelspec": {
   "display_name": "Python 3 (ipykernel)",
   "language": "python",
   "name": "python3"
  },
  "language_info": {
   "codemirror_mode": {
    "name": "ipython",
    "version": 3
   },
   "file_extension": ".py",
   "mimetype": "text/x-python",
   "name": "python",
   "nbconvert_exporter": "python",
   "pygments_lexer": "ipython3",
   "version": "3.9.12"
  }
 },
 "nbformat": 4,
 "nbformat_minor": 5
}
