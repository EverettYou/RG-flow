{
 "cells": [
  {
   "cell_type": "code",
   "execution_count": 1,
   "id": "3b5d1cf8-1680-4566-bf75-a1bf0e6aac67",
   "metadata": {},
   "outputs": [],
   "source": [
    "import torch\n",
    "from context import *\n",
    "import matplotlib.pyplot as plt"
   ]
  },
  {
   "cell_type": "code",
   "execution_count": null,
   "id": "582747f4-9f03-4480-a0ee-647d6a1b4c8b",
   "metadata": {},
   "outputs": [],
   "source": []
  },
  {
   "cell_type": "code",
   "execution_count": null,
   "id": "31134cbb-164e-4e2c-bf5e-4417650ab178",
   "metadata": {},
   "outputs": [],
   "source": []
  },
  {
   "cell_type": "code",
   "execution_count": null,
   "id": "826b727a-7788-49b3-9546-00483fd32a29",
   "metadata": {},
   "outputs": [],
   "source": []
  },
  {
   "cell_type": "code",
   "execution_count": 156,
   "id": "e5119fa9-5a10-4c08-b480-550b209afb52",
   "metadata": {},
   "outputs": [],
   "source": [
    "from math import prod\n",
    "class RGPredictor(torch.nn.Module):\n",
    "    ''' RG flow-based predictive model\n",
    "        \n",
    "        Parameters:\n",
    "            shape :: torch.Size - input shape\n",
    "            dim :: int - input dimension\n",
    "            out_dim :: int - output dimension\n",
    "    '''\n",
    "    def __init__(self, shape, dim, out_dim, **kwargs):\n",
    "        super().__init__()\n",
    "        self.rgflow = RGFlow(shape, dim, **kwargs)\n",
    "        self._base_dist = ShapedNormal([dim, *self.rgflow.out_shape])\n",
    "        self.para_size = prod(self._base_dist.event_shape)\n",
    "        self.para_net = torch.nn.Sequential(\n",
    "                            torch.nn.Linear(out_dim, 4*out_dim),\n",
    "                            torch.nn.ReLU(),\n",
    "                            torch.nn.Linear(4*out_dim, 2*self.para_size))\n",
    "    \n",
    "    def base_dist(self, y=None):\n",
    "        if y is None:\n",
    "            return self._base_dist\n",
    "        else:\n",
    "            para = self.para_net(y)\n",
    "            loc = para[...,:self.para_size]\n",
    "            scale = para[...,self.para_size:].exp()\n",
    "            loc = loc.view(loc.shape[:-1]+self._base_dist.event_shape)\n",
    "            scale = scale.view(scale.shape[:-1]+self._base_dist.event_shape)\n",
    "            return self._base_dist.new(loc, scale)\n",
    "    \n",
    "    def log_prob(self, x, y=None, mode='jf', **kwargs):\n",
    "        ''' log conditional probability estimation \n",
    "            Input:\n",
    "                x :: torch.Tensor (N, dim, *shape) - data \n",
    "                y :: torch.Tensor (N, out_dim) - prediction\n",
    "                     if y = None, returns log of marginal probability\n",
    "            Ouput:\n",
    "                log p(x|y) :: torch.Tensor (N,) - log probability '''\n",
    "        z, logJ, *rest = self.rgflow.encode(x, mode=mode, **kwargs)\n",
    "        logpz = self.base_dist(y).log_prob(z)\n",
    "        return logpz + logJ\n",
    "    \n",
    "    def log_bayes(self, x, y, mode='f', **kwargs):\n",
    "        ''' log Bayes factor estimation \n",
    "            log K(x|y) = log p(x|y) - log p(x)\n",
    "            Input:\n",
    "                x :: torch.Tensor (N, dim, *shape) - data \n",
    "                y :: torch.Tensor (N, out_dim) - prediction\n",
    "            Ouput:\n",
    "                log K(x|y) :: torch.Tensor (N,) - log Bayes factor '''\n",
    "        z, *rest = self.rgflow.encode(x, mode=mode, **kwargs)\n",
    "        logK = self.base_dist(y).log_prob(z) - self.base_dist().log_prob(z)\n",
    "        return logK\n",
    "    \n",
    "    def nll_loss(self, x, y, lk=0.01, lg=0.01, mode='jf_reg', **kwargs):\n",
    "        ''' compute negative log likelihood loss given training samples\n",
    "            L = - log p(x|y) - log p(x) + regs...\n",
    "            Input:\n",
    "                x :: torch.Tensor (N, dim, *shape) - data \n",
    "                y :: torch.Tensor (N, out_dim) - prediction\n",
    "                lk :: real - kinetic energy regularization strength\n",
    "                lg :: real - gradient energy regularization strength\n",
    "            Output:\n",
    "                loss :: torch.Tensor (scalar) - regularized loss\n",
    "                -logp :: torch.Tensor (scalar) - negative log likelihood\n",
    "                Ek :: torch.Tensor (scalar) - kinetic energy\n",
    "                Eg :: torch.Tensor (scalar) - gradient energy\n",
    "        '''\n",
    "        z, logJ, Ek, Eg = self.rgflow.encode(x, mode=mode, **kwargs)\n",
    "        logpz_y = self.base_dist(y).log_prob(z)\n",
    "        logpz = self.base_dist().log_prob(z)\n",
    "        #logp = logpz_y + logpz + 2*logJ\n",
    "        logp = logpz_y + logJ\n",
    "        logp, Ek, Eg = [val.mean() for val in (logp, Ek, Eg)]\n",
    "        return -logp + lk * Ek + lg * Eg, -logp, Ek, Eg"
   ]
  },
  {
   "cell_type": "code",
   "execution_count": 157,
   "id": "0bcf2855-61b9-4fd8-9632-bb2fe9664cd4",
   "metadata": {},
   "outputs": [],
   "source": [
    "mdl = RGPredictor([1], 1, 1, hdims=[8,2], hyper_dim=8)\n",
    "opt = torch.optim.Adam(mdl.parameters(), lr=0.01)\n",
    "y = torch.tensor([[-1.],[1.]])\n",
    "x = torch.tensor([[[-1.]],[[1.]]])"
   ]
  },
  {
   "cell_type": "code",
   "execution_count": 175,
   "id": "8c2b9382-ded7-4d50-872f-9fecb3b614c2",
   "metadata": {},
   "outputs": [
    {
     "name": "stdout",
     "output_type": "stream",
     "text": [
      "-0.30 -0.32  0.50  1.88\n",
      "-0.77 -0.80  0.58  2.50\n",
      "-0.74 -0.77  0.57  2.53\n",
      "-6.99 -7.14  0.47 14.46\n",
      " 1.08  1.07  0.22  0.31\n",
      " 0.43  0.41  0.21  1.51\n",
      " 1.62  1.62  0.22  0.00\n",
      " 1.64  1.64  0.23  0.01\n",
      " 0.52  0.51  0.23  1.33\n",
      " 0.80  0.79  0.22  1.04\n"
     ]
    }
   ],
   "source": [
    "mdl.train()\n",
    "opt.param_groups[0]['lr'] = 0.001\n",
    "for _ in range(10):\n",
    "    opt.zero_grad()\n",
    "    out = mdl.nll_loss(x, y, lk=0.01, lg=0.01, atol=1e-3, rtol=1e-3)\n",
    "    loss = out[0]\n",
    "    loss.backward()\n",
    "    opt.step()\n",
    "    print(*[f'{o.item():5.2f}' for o in out])"
   ]
  },
  {
   "cell_type": "code",
   "execution_count": 155,
   "id": "41b9276d-2d79-4318-a127-08cfe932647d",
   "metadata": {},
   "outputs": [
    {
     "data": {
      "image/png": "[encoded data removed]",
      "text/plain": [
       "<Figure size 432x288 with 1 Axes>"
      ]
     },
     "metadata": {
      "needs_background": "light"
     },
     "output_type": "display_data"
    }
   ],
   "source": [
    "mdl.eval()\n",
    "xs = torch.arange(-2,2,0.01)\n",
    "with torch.no_grad():\n",
    "    ps = mdl.log_bayes(xs.view(-1,1,1), torch.tensor([-1.]), div='exact').exp()\n",
    "plt.plot(xs, ps, 'k-');"
   ]
  },
  {
   "cell_type": "code",
   "execution_count": 176,
   "id": "632530a3-c22b-4c84-a578-d70ea46b786e",
   "metadata": {},
   "outputs": [
    {
     "data": {
      "image/png": "[encoded data removed]",
      "text/plain": [
       "<Figure size 432x288 with 1 Axes>"
      ]
     },
     "metadata": {
      "needs_background": "light"
     },
     "output_type": "display_data"
    }
   ],
   "source": [
    "mdl.eval()\n",
    "xs = torch.arange(-2,2,0.01)\n",
    "with torch.no_grad():\n",
    "    ps = mdl.log_prob(xs.view(-1,1,1), div='exact').exp()\n",
    "plt.plot(xs, ps, 'k-');\n",
    "with torch.no_grad():\n",
    "    ps = mdl.log_prob(xs.view(-1,1,1), y[0], div='exact').exp()\n",
    "plt.plot(xs, ps);\n",
    "with torch.no_grad():\n",
    "    ps = mdl.log_prob(xs.view(-1,1,1), y[1], div='exact').exp()\n",
    "plt.plot(xs, ps);"
   ]
  },
  {
   "cell_type": "code",
   "execution_count": 80,
   "id": "01eb542e-c11f-4cfe-85f7-c97314591058",
   "metadata": {},
   "outputs": [
    {
     "data": {
      "text/plain": [
       "tensor([[[0.4388]]], grad_fn=<ExpandBackward0>)"
      ]
     },
     "execution_count": 80,
     "metadata": {},
     "output_type": "execute_result"
    }
   ],
   "source": [
    "mdl.base_dist(torch.tensor([1.])).dist.log_prob()"
   ]
  },
  {
   "cell_type": "code",
   "execution_count": null,
   "id": "a0404608-49f2-4ab7-be3a-d7335fa7a9e8",
   "metadata": {},
   "outputs": [],
   "source": []
  }
 ],
 "metadata": {
  "kernelspec": {
   "display_name": "Python 3 (ipykernel)",
   "language": "python",
   "name": "python3"
  },
  "language_info": {
   "codemirror_mode": {
    "name": "ipython",
    "version": 3
   },
   "file_extension": ".py",
   "mimetype": "text/x-python",
   "name": "python",
   "nbconvert_exporter": "python",
   "pygments_lexer": "ipython3",
   "version": "3.9.12"
  }
 },
 "nbformat": 4,
 "nbformat_minor": 5
}
