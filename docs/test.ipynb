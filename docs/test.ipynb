{
 "cells": [
  {
   "cell_type": "code",
   "execution_count": 8,
   "id": "3b5d1cf8-1680-4566-bf75-a1bf0e6aac67",
   "metadata": {},
   "outputs": [],
   "source": [
    "import torch\n",
    "from context import *"
   ]
  },
  {
   "cell_type": "code",
   "execution_count": 10,
   "id": "4168ad41-53dc-43c8-bd8f-8f54de968df3",
   "metadata": {},
   "outputs": [
    {
     "data": {
      "text/plain": [
       "rgflow.rg.RGLayer"
      ]
     },
     "execution_count": 10,
     "metadata": {},
     "output_type": "execute_result"
    }
   ],
   "source": [
    "RGLayer"
   ]
  },
  {
   "cell_type": "code",
   "execution_count": null,
   "id": "9191c828-e30e-4703-802b-6e2b562de3c6",
   "metadata": {},
   "outputs": [],
   "source": []
  }
 ],
 "metadata": {
  "kernelspec": {
   "display_name": "Python 3 (ipykernel)",
   "language": "python",
   "name": "python3"
  },
  "language_info": {
   "codemirror_mode": {
    "name": "ipython",
    "version": 3
   },
   "file_extension": ".py",
   "mimetype": "text/x-python",
   "name": "python",
   "nbconvert_exporter": "python",
   "pygments_lexer": "ipython3",
   "version": "3.9.12"
  }
 },
 "nbformat": 4,
 "nbformat_minor": 5
}
