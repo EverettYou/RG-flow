{
 "cells": [
  {
   "cell_type": "code",
   "execution_count": 1,
   "id": "80f69879-ee79-4d3b-9b68-0dab9ab73193",
   "metadata": {},
   "outputs": [],
   "source": [
    "import torch\n",
    "import matplotlib.pyplot as plt\n",
    "from context import *"
   ]
  },
  {
   "cell_type": "markdown",
   "id": "6907067f-a189-4173-bec7-860a1ae1f5f4",
   "metadata": {
    "tags": []
   },
   "source": [
    "## Learn from Data"
   ]
  },
  {
   "cell_type": "code",
   "execution_count": 2,
   "id": "c8b6a7a3-2cd1-4da9-8497-b6537a73dea8",
   "metadata": {},
   "outputs": [],
   "source": [
    "mdl = RGGenerator([1], 1, hdims=[16, 8], hyper_dim=16)\n",
    "opt = torch.optim.Adam(mdl.parameters(), lr=0.01)"
   ]
  },
  {
   "cell_type": "code",
   "execution_count": 3,
   "id": "e51d042f-9d69-46f5-8e4e-b3c40f13be51",
   "metadata": {},
   "outputs": [
    {
     "data": {
      "text/plain": [
       "torch.Size([100, 1, 1])"
      ]
     },
     "execution_count": 3,
     "metadata": {},
     "output_type": "execute_result"
    }
   ],
   "source": [
    "x_dat = torch.tensor([-1.]*50+[1.]*50)\n",
    "x_dat = x_dat + 0.1*torch.randn_like(x_dat)\n",
    "x_dat = x_dat[:,None,None]\n",
    "x_dat.shape"
   ]
  },
  {
   "cell_type": "code",
   "execution_count": 19,
   "id": "9f5995f7-6081-44b1-827b-b8718134b827",
   "metadata": {},
   "outputs": [
    {
     "name": "stdout",
     "output_type": "stream",
     "text": [
      "-0.75 -0.80  0.28  4.63\n",
      " 0.32  0.29  0.30  2.62\n",
      "-0.09 -0.13  0.31  3.56\n",
      " 0.38  0.35  0.30  2.43\n",
      " 0.21  0.18  0.32  2.71\n",
      " 0.51  0.49  0.38  1.59\n",
      " 0.44  0.41  0.46  2.00\n",
      " 0.27  0.24  0.50  2.70\n",
      " 0.27  0.24  0.48  2.38\n",
      " 0.21  0.19  0.41  2.33\n"
     ]
    }
   ],
   "source": [
    "mdl.train()\n",
    "opt.param_groups[0]['lr'] = 0.001\n",
    "for _ in range(10):\n",
    "    opt.zero_grad()\n",
    "    out = mdl.nll_loss(x_dat, lk=0.01, lg=0.01, atol=1e-3, rtol=1e-3)\n",
    "    loss = out[0]\n",
    "    loss.backward()\n",
    "    opt.step()\n",
    "    print(*[f'{o.item():5.2f}' for o in out])"
   ]
  },
  {
   "cell_type": "code",
   "execution_count": 20,
   "id": "091aad62-ba44-46da-bf6e-5dd4349814a0",
   "metadata": {},
   "outputs": [
    {
     "data": {
      "image/png": "[encoded data removed]",
      "text/plain": [
       "<Figure size 432x288 with 1 Axes>"
      ]
     },
     "metadata": {
      "needs_background": "light"
     },
     "output_type": "display_data"
    }
   ],
   "source": [
    "mdl.eval()\n",
    "x_smp = mdl.sample(1000)\n",
    "plt.hist(x_dat.squeeze().tolist(), bins=50, density=True);\n",
    "plt.hist(x_smp.squeeze().tolist(), bins=50, density=True);\n",
    "xs = torch.arange(-2,2,0.01)\n",
    "with torch.no_grad():\n",
    "    ps = mdl.log_prob(xs.view(-1,1,1), div='exact').exp()\n",
    "plt.plot(xs, ps, 'k-');"
   ]
  },
  {
   "cell_type": "markdown",
   "id": "438bb348-8a68-4e76-a9a4-bb5ff6a8712e",
   "metadata": {},
   "source": [
    "## Learn from Energy"
   ]
  },
  {
   "cell_type": "code",
   "execution_count": 21,
   "id": "b76c78da-30de-4e6b-8ecf-0f84f404ac47",
   "metadata": {},
   "outputs": [],
   "source": [
    "mdl = RGGenerator([1], 1, hdims=[16, 8], hyper_dim=16)\n",
    "opt = torch.optim.Adam(mdl.parameters(), lr=0.01)"
   ]
  },
  {
   "cell_type": "code",
   "execution_count": 22,
   "id": "866e81dd-bb87-494e-a689-9011ccca2274",
   "metadata": {},
   "outputs": [],
   "source": [
    "def energy(x):\n",
    "    return torch.squeeze((x-1)**2/(2*(1/3)**2))"
   ]
  },
  {
   "cell_type": "code",
   "execution_count": 28,
   "id": "25b9c4a6-8c15-4ed5-b0aa-0723eecc61ef",
   "metadata": {},
   "outputs": [
    {
     "name": "stdout",
     "output_type": "stream",
     "text": [
      " 1.90  1.86  1.78  2.41\n",
      " 1.70  1.67  1.65  1.95\n",
      " 1.67  1.64  1.75  1.61\n",
      " 1.62  1.58  1.69  1.45\n",
      " 1.75  1.72  1.76  1.37\n",
      " 1.73  1.70  1.63  1.21\n",
      " 1.69  1.66  1.58  1.21\n",
      " 1.71  1.68  1.45  1.24\n",
      " 1.65  1.63  1.39  1.16\n",
      " 1.57  1.55  1.39  1.09\n"
     ]
    }
   ],
   "source": [
    "mdl.train()\n",
    "opt.param_groups[0]['lr'] = 0.001\n",
    "for _ in range(10):\n",
    "    opt.zero_grad()\n",
    "    out = mdl.free_loss(energy, 1000, lk=0.01, lg=0.01, atol=1e-3, rtol=1e-3)\n",
    "    loss = out[0]\n",
    "    loss.backward()\n",
    "    opt.step()\n",
    "    print(*[f'{o.item():5.2f}' for o in out])"
   ]
  },
  {
   "cell_type": "code",
   "execution_count": 29,
   "id": "00613d01-3689-4366-ba8b-6967fef0c241",
   "metadata": {},
   "outputs": [
    {
     "data": {
      "image/png": "[encoded data removed]",
      "text/plain": [
       "<Figure size 432x288 with 1 Axes>"
      ]
     },
     "metadata": {
      "needs_background": "light"
     },
     "output_type": "display_data"
    }
   ],
   "source": [
    "mdl.eval()\n",
    "x_smp = mdl.sample(1000)\n",
    "x_dat = torch.randn_like(x_smp)/3+1\n",
    "plt.hist(x_dat.squeeze().tolist(), bins=50, density=True);\n",
    "plt.hist(x_smp.squeeze().tolist(), bins=50, density=True);\n",
    "xs = torch.arange(-3,3,0.01)\n",
    "with torch.no_grad():\n",
    "    ps = mdl.log_prob(xs.view(-1,1,1), div='exact').exp()\n",
    "plt.plot(xs, ps, 'k-');"
   ]
  },
  {
   "cell_type": "code",
   "execution_count": null,
   "id": "78a66231-abfa-4214-8494-fe5298268b13",
   "metadata": {},
   "outputs": [],
   "source": []
  }
 ],
 "metadata": {
  "kernelspec": {
   "display_name": "Python 3 (ipykernel)",
   "language": "python",
   "name": "python3"
  },
  "language_info": {
   "codemirror_mode": {
    "name": "ipython",
    "version": 3
   },
   "file_extension": ".py",
   "mimetype": "text/x-python",
   "name": "python",
   "nbconvert_exporter": "python",
   "pygments_lexer": "ipython3",
   "version": "3.9.12"
  }
 },
 "nbformat": 4,
 "nbformat_minor": 5
}
