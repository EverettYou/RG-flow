{
 "cells": [
  {
   "cell_type": "code",
   "execution_count": 1,
   "id": "3b5d1cf8-1680-4566-bf75-a1bf0e6aac67",
   "metadata": {},
   "outputs": [],
   "source": [
    "import torch\n",
    "import matplotlib.pyplot as plt"
   ]
  },
  {
   "cell_type": "code",
   "execution_count": 102,
   "id": "0ce140a7-752f-42ca-b244-891767b4d6aa",
   "metadata": {},
   "outputs": [],
   "source": [
    "%run 'RG.py'"
   ]
  },
  {
   "cell_type": "code",
   "execution_count": 3,
   "id": "8f779122-f13e-4c12-8df4-4d84a6e962d4",
   "metadata": {},
   "outputs": [],
   "source": [
    "par = RGPartition([5,5])"
   ]
  },
  {
   "cell_type": "code",
   "execution_count": 4,
   "id": "b01f96d0-7fc9-4c19-ab5d-547925d5576a",
   "metadata": {},
   "outputs": [
    {
     "data": {
      "text/plain": [
       "tensor([[False, False, False, False, False],\n",
       "        [False,  True, False,  True, False],\n",
       "        [False, False, False, False, False],\n",
       "        [False,  True, False,  True, False],\n",
       "        [False, False, False, False, False]])"
      ]
     },
     "execution_count": 4,
     "metadata": {},
     "output_type": "execute_result"
    }
   ],
   "source": [
    "par.mask"
   ]
  },
  {
   "cell_type": "code",
   "execution_count": 7,
   "id": "dc3c44d5-4c39-4f12-8c74-16fcd4a90ac6",
   "metadata": {},
   "outputs": [
    {
     "data": {
      "text/plain": [
       "torch.Size([5, 5])"
      ]
     },
     "execution_count": 7,
     "metadata": {},
     "output_type": "execute_result"
    }
   ],
   "source": [
    "par.mask.shape"
   ]
  },
  {
   "cell_type": "code",
   "execution_count": 105,
   "id": "206437ad-168f-4076-ac17-89fa5a88bb11",
   "metadata": {},
   "outputs": [
    {
     "data": {
      "text/plain": [
       "(tensor([[[[-0.0061, -0.0061],\n",
       "           [-0.0061, -0.0061]]]], grad_fn=<ViewBackward0>),\n",
       " tensor([[[-0.5328, -0.0398, -0.5328, -0.0398, -0.5328, -0.4497, -0.4497,\n",
       "           -0.4497, -0.5328, -0.0398, -0.5328, -0.0398, -0.5328, -0.4497,\n",
       "           -0.4497, -0.4497, -0.5328, -0.0398, -0.5328, -0.0398, -0.5328]]],\n",
       "        grad_fn=<IndexBackward0>))"
      ]
     },
     "execution_count": 105,
     "metadata": {},
     "output_type": "execute_result"
    }
   ],
   "source": [
    "rg = RGLayer([5,5],1)\n",
    "x = torch.zeros(1,1,5,5)\n",
    "rg.encode(x)"
   ]
  },
  {
   "cell_type": "code",
   "execution_count": null,
   "id": "4168ad41-53dc-43c8-bd8f-8f54de968df3",
   "metadata": {},
   "outputs": [],
   "source": []
  }
 ],
 "metadata": {
  "kernelspec": {
   "display_name": "Python 3 (ipykernel)",
   "language": "python",
   "name": "python3"
  },
  "language_info": {
   "codemirror_mode": {
    "name": "ipython",
    "version": 3
   },
   "file_extension": ".py",
   "mimetype": "text/x-python",
   "name": "python",
   "nbconvert_exporter": "python",
   "pygments_lexer": "ipython3",
   "version": "3.9.12"
  }
 },
 "nbformat": 4,
 "nbformat_minor": 5
}
